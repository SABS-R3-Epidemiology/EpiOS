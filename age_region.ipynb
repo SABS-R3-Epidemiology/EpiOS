{
 "cells": [
  {
   "cell_type": "code",
   "execution_count": 2,
   "metadata": {},
   "outputs": [],
   "source": [
    "import sys\n",
    "import os\n",
    "from pathlib import Path\n",
    "sys.path.append(str(Path.cwd().parent))\n",
    "import pandas as pd\n",
    "import numpy as np\n",
    "import json"
   ]
  },
  {
   "cell_type": "code",
   "execution_count": null,
   "metadata": {},
   "outputs": [],
   "source": []
  },
  {
   "cell_type": "code",
   "execution_count": 2,
   "metadata": {},
   "outputs": [
    {
     "name": "stdout",
     "output_type": "stream",
     "text": [
      "Gurobi Optimizer version 11.0.0 build v11.0.0rc2 (mac64[arm] - Darwin 23.0.0 23A344)\n",
      "\n",
      "CPU model: Apple M2 Pro\n",
      "Thread count: 12 physical cores, 12 logical processors, using up to 12 threads\n",
      "\n",
      "Optimize a model with 54 rows, 34 columns and 136 nonzeros\n",
      "Model fingerprint: 0xef0859c7\n",
      "Model has 340 quadratic objective terms\n",
      "Variable types: 0 continuous, 34 integer (0 binary)\n",
      "Coefficient statistics:\n",
      "  Matrix range     [1e+00, 1e+00]\n",
      "  Objective range  [2e+00, 1e+01]\n",
      "  QObjective range [2e+00, 4e+00]\n",
      "  Bounds range     [0e+00, 0e+00]\n",
      "  RHS range        [1e+00, 6e+00]\n",
      "Presolve removed 34 rows and 34 columns\n",
      "Presolve time: 0.00s\n",
      "\n",
      "Explored 0 nodes (0 simplex iterations) in 0.00 seconds (0.00 work units)\n",
      "Thread count was 1 (of 12 available processors)\n",
      "\n",
      "Solution count 0\n",
      "\n",
      "Model is infeasible or unbounded\n",
      "Best objective -, best bound -, gap -\n",
      "No optimal solution found.\n"
     ]
    }
   ],
   "source": [
    "import epios.age_region as ar\n",
    "a = ar.Sampler('./input/microcells.csv', './input/pop_dist.json', './input/data.csv')\n",
    "a.optimise_draw(6)\n"
   ]
  },
  {
   "cell_type": "code",
   "execution_count": 8,
   "metadata": {},
   "outputs": [
    {
     "data": {
      "text/plain": [
       "array([0., 0.])"
      ]
     },
     "execution_count": 8,
     "metadata": {},
     "output_type": "execute_result"
    }
   ],
   "source": [
    "import numpy as np\n",
    "np.zeros(2)"
   ]
  },
  {
   "cell_type": "code",
   "execution_count": 3,
   "metadata": {},
   "outputs": [
    {
     "ename": "ModuleNotFoundError",
     "evalue": "No module named 'sampler'",
     "output_type": "error",
     "traceback": [
      "\u001b[0;31m---------------------------------------------------------------------------\u001b[0m",
      "\u001b[0;31mModuleNotFoundError\u001b[0m                       Traceback (most recent call last)",
      "\u001b[1;32m/Users/yunliqi/EpiOS/age_region.ipynb Cell 2\u001b[0m line \u001b[0;36m1\n\u001b[0;32m----> <a href='vscode-notebook-cell:/Users/yunliqi/EpiOS/age_region.ipynb#X13sZmlsZQ%3D%3D?line=0'>1</a>\u001b[0m \u001b[39mfrom\u001b[39;00m \u001b[39mepios\u001b[39;00m\u001b[39m.\u001b[39;00m\u001b[39msampler\u001b[39;00m \u001b[39mimport\u001b[39;00m Sampler\n",
      "File \u001b[0;32m~/EpiOS/epios/__init__.py:1\u001b[0m\n\u001b[0;32m----> 1\u001b[0m \u001b[39mfrom\u001b[39;00m \u001b[39m.\u001b[39;00m\u001b[39msampler_age_region\u001b[39;00m \u001b[39mimport\u001b[39;00m SamplerAgeRegion \u001b[39m# noqa\u001b[39;00m\n\u001b[1;32m      2\u001b[0m \u001b[39mfrom\u001b[39;00m \u001b[39m.\u001b[39;00m\u001b[39mnon_responder_function\u001b[39;00m \u001b[39mimport\u001b[39;00m additional_nonresponder \u001b[39m# noqa\u001b[39;00m\n\u001b[1;32m      3\u001b[0m \u001b[39mfrom\u001b[39;00m \u001b[39m.\u001b[39;00m\u001b[39mdata_process\u001b[39;00m \u001b[39mimport\u001b[39;00m DataProcess \u001b[39m# noqa\u001b[39;00m\n",
      "File \u001b[0;32m~/EpiOS/epios/sampler_age_region.py:1\u001b[0m\n\u001b[0;32m----> 1\u001b[0m \u001b[39mfrom\u001b[39;00m \u001b[39msampler\u001b[39;00m \u001b[39mimport\u001b[39;00m Sampler\n\u001b[1;32m      2\u001b[0m \u001b[39mimport\u001b[39;00m \u001b[39mpandas\u001b[39;00m \u001b[39mas\u001b[39;00m \u001b[39mpd\u001b[39;00m\n\u001b[1;32m      3\u001b[0m \u001b[39mimport\u001b[39;00m \u001b[39mnumpy\u001b[39;00m \u001b[39mas\u001b[39;00m \u001b[39mnp\u001b[39;00m\n",
      "\u001b[0;31mModuleNotFoundError\u001b[0m: No module named 'sampler'"
     ]
    }
   ],
   "source": [
    "from epios.sampler import Sampler"
   ]
  },
  {
   "cell_type": "code",
   "execution_count": 6,
   "metadata": {},
   "outputs": [
    {
     "ename": "TypeError",
     "evalue": "Sampler.__init__() got an unexpected keyword argument 'data'",
     "output_type": "error",
     "traceback": [
      "\u001b[0;31m---------------------------------------------------------------------------\u001b[0m",
      "\u001b[0;31mTypeError\u001b[0m                                 Traceback (most recent call last)",
      "\u001b[1;32m/Users/yunliqi/EpiOS/age_region.ipynb Cell 2\u001b[0m line \u001b[0;36m4\n\u001b[1;32m      <a href='vscode-notebook-cell:/Users/yunliqi/EpiOS/age_region.ipynb#W1sZmlsZQ%3D%3D?line=0'>1</a>\u001b[0m data \u001b[39m=\u001b[39m pd\u001b[39m.\u001b[39mDataFrame({\u001b[39m'\u001b[39m\u001b[39mID\u001b[39m\u001b[39m'\u001b[39m: [\u001b[39m'\u001b[39m\u001b[39m0.0.0.0\u001b[39m\u001b[39m'\u001b[39m, \u001b[39m'\u001b[39m\u001b[39m0.0.0.1\u001b[39m\u001b[39m'\u001b[39m, \u001b[39m'\u001b[39m\u001b[39m0.0.1.0\u001b[39m\u001b[39m'\u001b[39m,\n\u001b[1;32m      <a href='vscode-notebook-cell:/Users/yunliqi/EpiOS/age_region.ipynb#W1sZmlsZQ%3D%3D?line=1'>2</a>\u001b[0m                                          \u001b[39m'\u001b[39m\u001b[39m0.1.0.0\u001b[39m\u001b[39m'\u001b[39m, \u001b[39m'\u001b[39m\u001b[39m0.2.0.0\u001b[39m\u001b[39m'\u001b[39m, \u001b[39m'\u001b[39m\u001b[39m1.0.0.0\u001b[39m\u001b[39m'\u001b[39m],\n\u001b[1;32m      <a href='vscode-notebook-cell:/Users/yunliqi/EpiOS/age_region.ipynb#W1sZmlsZQ%3D%3D?line=2'>3</a>\u001b[0m                                   \u001b[39m'\u001b[39m\u001b[39mage\u001b[39m\u001b[39m'\u001b[39m: [\u001b[39m1\u001b[39m, \u001b[39m81\u001b[39m, \u001b[39m45\u001b[39m, \u001b[39m33\u001b[39m, \u001b[39m20\u001b[39m, \u001b[39m60\u001b[39m]})\n\u001b[0;32m----> <a href='vscode-notebook-cell:/Users/yunliqi/EpiOS/age_region.ipynb#W1sZmlsZQ%3D%3D?line=3'>4</a>\u001b[0m a \u001b[39m=\u001b[39m epios\u001b[39m.\u001b[39;49mSampler(data\u001b[39m=\u001b[39;49mdata)\n",
      "\u001b[0;31mTypeError\u001b[0m: Sampler.__init__() got an unexpected keyword argument 'data'"
     ]
    }
   ],
   "source": [
    "data = pd.DataFrame({'ID': ['0.0.0.0', '0.0.0.1', '0.0.1.0',\n",
    "                                         '0.1.0.0', '0.2.0.0', '1.0.0.0'],\n",
    "                                  'age': [1, 81, 45, 33, 20, 60]})\n",
    "a = epios.Sampler()"
   ]
  },
  {
   "cell_type": "code",
   "execution_count": 3,
   "metadata": {},
   "outputs": [],
   "source": [
    "res = a.sample(10000)"
   ]
  },
  {
   "cell_type": "code",
   "execution_count": 5,
   "metadata": {},
   "outputs": [],
   "source": [
    "age_dist = a.get_age_dist()\n",
    "region_dist = a.get_region_dist()\n",
    "ar_dist = np.array(age_dist) * np.array(region_dist).reshape((-1, 1))\n",
    "ar_dist = ar_dist.reshape((1, -1))[0]\n",
    "size = 1000\n",
    "num_sample, cap = a.multinomial_draw(size, ar_dist)"
   ]
  },
  {
   "cell_type": "code",
   "execution_count": 6,
   "metadata": {},
   "outputs": [
    {
     "data": {
      "text/plain": [
       "array([0, 0, 0, 0, 0, 0, 0, 0, 0, 0, 0, 0, 0, 0, 0, 0, 0])"
      ]
     },
     "execution_count": 6,
     "metadata": {},
     "output_type": "execute_result"
    }
   ],
   "source": [
    "b = np.array(num_sample).reshape((-1, len(age_dist))) > cap\n",
    "sum(b)"
   ]
  },
  {
   "cell_type": "code",
   "execution_count": 4,
   "metadata": {},
   "outputs": [
    {
     "data": {
      "text/plain": [
       "10000"
      ]
     },
     "execution_count": 4,
     "metadata": {},
     "output_type": "execute_result"
    }
   ],
   "source": [
    "len(res)"
   ]
  },
  {
   "cell_type": "code",
   "execution_count": 4,
   "metadata": {},
   "outputs": [
    {
     "data": {
      "text/plain": [
       "0"
      ]
     },
     "execution_count": 4,
     "metadata": {},
     "output_type": "execute_result"
    }
   ],
   "source": [
    "b = np.sum(np.array(num_sample).reshape((-1, len(age_dist))), axis=1) > np.array(cap).reshape((1, -1))[0]\n",
    "sum(b)"
   ]
  },
  {
   "cell_type": "code",
   "execution_count": 5,
   "metadata": {},
   "outputs": [],
   "source": [
    "# df = pd.read_csv('./input/Luxembourg_microcells.csv')\n",
    "# with open('./input/Luxembourg_pop_dist.json', 'r') as f:\n",
    "#     config = json.loads(f.read())\n",
    "# id_counter = 0\n",
    "# for ind, row in df.iterrows():\n",
    "#     household = 1\n",
    "#     for i in range(int(row['Susceptible'])):\n",
    "#         draw = list(np.random.multinomial(1, config))\n",
    "#         index = draw.index(max(draw))\n",
    "#         age = index * 5 + np.random.randint(0, 4)\n",
    "#         text = '\\n' + str(id_counter) + ',' + str(age) + ',' + str(int(row['cell'])) + ',' + str(int(row['microcell'])) + ',' + str(household)\n",
    "#         household = min(household + 1, int(row['household_number']))\n",
    "#         id_counter += 1\n",
    "#         with open('./input/data.csv', 'a') as f:\n",
    "#             f.write(text)"
   ]
  },
  {
   "cell_type": "code",
   "execution_count": 1,
   "metadata": {},
   "outputs": [],
   "source": [
    "# import epios\n",
    "# import pandas as pd\n",
    "# a = pd.DataFrame({'ID': ['0.0.0.0','0.1.0.0','1.0.0.0','0.2.0.0','0.0.0.1','0.0.1.0'], 'age': [1, 81, 45, 33, 20, 60]})\n",
    "# pro = epios.DataProcess(a)\n",
    "# pro.pre_process()"
   ]
  }
 ],
 "metadata": {
  "kernelspec": {
   "display_name": "venv",
   "language": "python",
   "name": "python3"
  },
  "language_info": {
   "codemirror_mode": {
    "name": "ipython",
    "version": 3
   },
   "file_extension": ".py",
   "mimetype": "text/x-python",
   "name": "python",
   "nbconvert_exporter": "python",
   "pygments_lexer": "ipython3",
   "version": "3.11.5"
  }
 },
 "nbformat": 4,
 "nbformat_minor": 2
}
