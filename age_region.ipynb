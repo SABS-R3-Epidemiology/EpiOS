{
 "cells": [
  {
   "cell_type": "code",
   "execution_count": 1,
   "metadata": {},
   "outputs": [],
   "source": [
    "import sys\n",
    "import os\n",
    "from pathlib import Path\n",
    "sys.path.append(str(Path.cwd().parent))\n",
    "import epios\n",
    "import pandas as pd\n",
    "import numpy as np\n",
    "import json"
   ]
  },
  {
   "cell_type": "code",
   "execution_count": 2,
   "metadata": {},
   "outputs": [],
   "source": [
    "a = epios.Sampler('./input/Luxembourg_microcells.csv', './input/Luxembourg_pop_dist.json', pd.read_csv('./input/data.csv'))"
   ]
  },
  {
   "cell_type": "code",
   "execution_count": null,
   "metadata": {},
   "outputs": [],
   "source": [
    "res = a.sample(10000)"
   ]
  },
  {
   "cell_type": "code",
   "execution_count": 3,
   "metadata": {},
   "outputs": [
    {
     "name": "stdout",
     "output_type": "stream",
     "text": [
      "18172\n",
      "43699\n",
      "37174\n",
      "17344\n",
      "11379\n",
      "3233\n",
      "45592\n",
      "49486\n",
      "42958\n",
      "14268\n",
      "4869\n",
      "24776\n",
      "48030\n",
      "1799\n",
      "5780\n",
      "27936\n",
      "27728\n",
      "2614\n",
      "15497\n",
      "31586\n",
      "541\n",
      "16528\n",
      "7785\n",
      "6947\n"
     ]
    }
   ],
   "source": [
    "age_dist = a.get_age_dist()\n",
    "region_dist = a.get_region_dist()\n",
    "ar_dist = np.array(age_dist) * np.array(region_dist).reshape((-1, 1))\n",
    "ar_dist = ar_dist.reshape((1, -1))[0]\n",
    "size = 1000\n",
    "num_sample, cap, c = a.multinomial_draw(size, ar_dist)"
   ]
  },
  {
   "cell_type": "code",
   "execution_count": 5,
   "metadata": {},
   "outputs": [
    {
     "data": {
      "text/plain": [
       "array([0, 0, 0, 0, 1, 1, 0, 0, 0, 0, 1, 0, 1, 0, 0, 0, 3])"
      ]
     },
     "execution_count": 5,
     "metadata": {},
     "output_type": "execute_result"
    }
   ],
   "source": [
    "b = np.array(num_sample).reshape((-1, len(age_dist))) > cap\n",
    "sum(b)"
   ]
  },
  {
   "cell_type": "code",
   "execution_count": 6,
   "metadata": {},
   "outputs": [
    {
     "data": {
      "text/plain": [
       "0"
      ]
     },
     "execution_count": 6,
     "metadata": {},
     "output_type": "execute_result"
    }
   ],
   "source": [
    "count = 0\n",
    "for prob in c:\n",
    "    if prob == 0:\n",
    "        count += 1\n",
    "count"
   ]
  },
  {
   "cell_type": "code",
   "execution_count": 7,
   "metadata": {},
   "outputs": [
    {
     "data": {
      "text/plain": [
       "{2.0604022103952207e-07,\n",
       " 5.116636043968928e-07,\n",
       " 5.4635597612614e-07,\n",
       " 6.362483374270622e-07,\n",
       " 9.603568992766854e-07,\n",
       " 1.4308499986985485e-06,\n",
       " 1.5454031677195958e-06,\n",
       " 1.555223603154481e-06,\n",
       " 2.000650859925092e-06,\n",
       " 2.3330118975634978e-06,\n",
       " 2.6891501602491535e-06,\n",
       " 2.710488143772531e-06,\n",
       " 3.2014006862846405e-06,\n",
       " 3.393312951665804e-06,\n",
       " 3.5722442868683907e-06,\n",
       " 4.132589720784601e-06,\n",
       " 4.866182181855396e-06,\n",
       " 5.008148080975793e-06,\n",
       " 5.2821754064470775e-06,\n",
       " 5.4343406505747615e-06,\n",
       " 6.173684809302118e-06,\n",
       " 6.47602074841076e-06,\n",
       " 7.300773491067988e-06,\n",
       " 9.591809524478826e-06}"
      ]
     },
     "execution_count": 7,
     "metadata": {},
     "output_type": "execute_result"
    }
   ],
   "source": [
    "c"
   ]
  },
  {
   "cell_type": "code",
   "execution_count": 4,
   "metadata": {},
   "outputs": [
    {
     "data": {
      "text/plain": [
       "0"
      ]
     },
     "execution_count": 4,
     "metadata": {},
     "output_type": "execute_result"
    }
   ],
   "source": [
    "b = np.sum(np.array(num_sample).reshape((-1, len(age_dist))), axis=1) > np.array(cap).reshape((1, -1))[0]\n",
    "sum(b)"
   ]
  },
  {
   "cell_type": "code",
   "execution_count": 5,
   "metadata": {},
   "outputs": [],
   "source": [
    "# df = pd.read_csv('./input/Luxembourg_microcells.csv')\n",
    "# with open('./input/Luxembourg_pop_dist.json', 'r') as f:\n",
    "#     config = json.loads(f.read())\n",
    "# id_counter = 0\n",
    "# for ind, row in df.iterrows():\n",
    "#     household = 1\n",
    "#     for i in range(int(row['Susceptible'])):\n",
    "#         draw = list(np.random.multinomial(1, config))\n",
    "#         index = draw.index(max(draw))\n",
    "#         age = index * 5 + np.random.randint(0, 4)\n",
    "#         text = '\\n' + str(id_counter) + ',' + str(age) + ',' + str(int(row['cell'])) + ',' + str(int(row['microcell'])) + ',' + str(household)\n",
    "#         household = min(household + 1, int(row['household_number']))\n",
    "#         id_counter += 1\n",
    "#         with open('./input/data.csv', 'a') as f:\n",
    "#             f.write(text)"
   ]
  }
 ],
 "metadata": {
  "kernelspec": {
   "display_name": "venv",
   "language": "python",
   "name": "python3"
  },
  "language_info": {
   "codemirror_mode": {
    "name": "ipython",
    "version": 3
   },
   "file_extension": ".py",
   "mimetype": "text/x-python",
   "name": "python",
   "nbconvert_exporter": "python",
   "pygments_lexer": "ipython3",
   "version": "3.11.5"
  }
 },
 "nbformat": 4,
 "nbformat_minor": 2
}
