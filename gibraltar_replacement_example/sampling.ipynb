{
 "cells": [
  {
   "cell_type": "markdown",
   "id": "ef80c5ba-6d16-4036-8347-f796c2e8ec99",
   "metadata": {},
   "source": [
    "# Comparing Random and Same sampling strategies in EpiOS"
   ]
  },
  {
   "cell_type": "markdown",
   "id": "67ca1eb6-687b-4da9-87c0-c155616b99c2",
   "metadata": {},
   "source": [
    "## Introduction"
   ]
  },
  {
   "cell_type": "markdown",
   "id": "9263275b-e6e2-430d-9cba-dbce22658388",
   "metadata": {},
   "source": [
    "In this notebook, we compare the following two strategies in EpiOS:\n",
    "\n",
    "- Random\n",
    "\n",
    "    This strategy samples individuals by choosing a random subset of people for each time step.\n",
    "\n",
    "- Same\n",
    "\n",
    "    This strategy follows the same people over the course of the epidemic."
   ]
  },
  {
   "cell_type": "markdown",
   "id": "b102bb0b-8a10-4df8-a99b-b31a2f04607c",
   "metadata": {},
   "source": [
    "### Imports"
   ]
  },
  {
   "cell_type": "code",
   "execution_count": 1,
   "id": "2668419c-01ba-448e-a40f-30a3eafe9061",
   "metadata": {},
   "outputs": [],
   "source": [
    "import epios\n",
    "\n",
    "from typing import List, Tuple\n",
    "import numpy as np\n",
    "import pandas as pd\n",
    "import matplotlib.pyplot as plt"
   ]
  },
  {
   "cell_type": "markdown",
   "id": "cb43c6be-321e-4055-8bf4-632911f266e1",
   "metadata": {},
   "source": [
    "## Collecting data from pyEpiabm\n",
    "This notebook takes data from the gibraltar_example of pyEpiabm (see `README.md` in the current directory).\n",
    "\n",
    "This simulation was run over 365 days with a total population of 33078. Additionally, this data has the\n",
    "new waning immunity features, so we get waves of infections. See the SIR plot below."
   ]
  },
  {
   "cell_type": "markdown",
   "id": "cdf41c13-0adb-4cbd-8e05-890ef99fa74e",
   "metadata": {},
   "source": [
    "## SIR Plot for Gibraltar\n",
    "![SIR Plot](simulation_outputs/simulation_flow_SIR_plot.png)"
   ]
  },
  {
   "cell_type": "markdown",
   "id": "249d0de5-03d8-4c18-8da6-771e5311290f",
   "metadata": {},
   "source": [
    "We ran the above simulation with no interventions, and so the number of infected forms waves and does not appear to decrease\n",
    "over time."
   ]
  },
  {
   "cell_type": "markdown",
   "id": "e5a0b5c5-dc57-40d2-a634-6e6e84ff3c19",
   "metadata": {},
   "source": [
    "### Accessing the data"
   ]
  },
  {
   "cell_type": "code",
   "execution_count": 2,
   "id": "6f36dc9a-0534-45aa-b5e2-def0dc3cbba8",
   "metadata": {},
   "outputs": [],
   "source": [
    "path = '.'\n",
    "# This assumes the python venv is installed under epios folder\n",
    "demo_data = pd.read_csv(f'{path}/simulation_outputs/demographics.csv')\n",
    "time_data = pd.read_csv(f'{path}/simulation_outputs/inf_status_history.csv')"
   ]
  },
  {
   "cell_type": "markdown",
   "id": "28ce0dfe-d1fe-466e-87cb-dddd86e3cce1",
   "metadata": {},
   "source": [
    "### Using `epios.PostProcess` to generate a single prediction"
   ]
  },
  {
   "cell_type": "markdown",
   "id": "3b0583f8-3e09-4ba2-95ec-3368e5f2ec1f",
   "metadata": {},
   "source": [
    "Given a specific `sample_strategy`, we can get a prediction using the `Base` method from `epios.PostProcess`."
   ]
  },
  {
   "cell_type": "code",
   "execution_count": 3,
   "id": "ae1ff794-e2e4-4a56-a7a9-9e354c090a16",
   "metadata": {},
   "outputs": [],
   "source": [
    "def predict_base(post_process: epios.PostProcess, sample_size: int,\n",
    "                 time_sample: List[int], comparison: bool,\n",
    "                 sample_strategy: str) -> Tuple[np.array, ...]:\n",
    "    \"\"\"Uses the `Base` method from `epios.PostProcess` to plot and predict\n",
    "    incidence rate from a sample.\n",
    "\n",
    "    Returns\n",
    "    -------\n",
    "    Tuple[np.array, ...]\n",
    "         Returns the times, true and predicted incidence rates in a tuple to be\n",
    "         used for further analysis\n",
    "    \"\"\"\n",
    "    # Make prediction\n",
    "    result, diff = post_process.predict.Base(sample_size=sample_size,\n",
    "                                             time_sample=time_sample,\n",
    "                                             comparison=comparison,\n",
    "                                             gen_plot=False,\n",
    "                                             sample_strategy=sample_strategy)\n",
    "\n",
    "    # Find population size and get true data\n",
    "    pop_size = len(post_process.demo_data)\n",
    "    times, prediction = result[0], np.array(result[1]) * pop_size\n",
    "    true = diff + prediction\n",
    "\n",
    "    return times, true, prediction"
   ]
  },
  {
   "cell_type": "markdown",
   "id": "9bce3a29-2acc-4f7b-a57f-9e9e36769daf",
   "metadata": {},
   "source": [
    "### Finding samples using both Random and Same strategies"
   ]
  },
  {
   "cell_type": "code",
   "execution_count": 4,
   "id": "d9ab71a5-c78d-4fcb-862f-5f1f407ea1ed",
   "metadata": {},
   "outputs": [],
   "source": [
    "def rand_and_same(post_process: epios.PostProcess, sample_size: int,\n",
    "                  time_sample: List[int], comparison: bool) -> Tuple[np.array, ...]:\n",
    "    \"\"\"This returns predictions from the Random and Same sampling strategies,\n",
    "    without plotting. These will be averaged over multiple runs\n",
    "\n",
    "    Returns\n",
    "    -------\n",
    "    Tuple[np.array, ...]\n",
    "        Times array, true results, predictions with Random strategy and\n",
    "        predictions with Same strategy\n",
    "    \"\"\"\n",
    "    # Do prediction and comparison with Random sampling strategy - this samples\n",
    "    # different people every time step\n",
    "    base_random = predict_base(post_process=post_process,\n",
    "                               sample_size=sample_size,\n",
    "                               time_sample=time_sample,\n",
    "                               comparison=comparison,\n",
    "                               sample_strategy='Random')\n",
    "    times, true, pred_random = base_random\n",
    "\n",
    "    # Do prediction and comparison with Same sampling strategy - this tracks\n",
    "    # the same people every time step\n",
    "    pred_same = predict_base(post_process=post_process,\n",
    "                             sample_size=sample_size,\n",
    "                             time_sample=time_sample,\n",
    "                             comparison=comparison,\n",
    "                             sample_strategy='Same')[2]\n",
    "\n",
    "    return times, true, pred_random, pred_same"
   ]
  },
  {
   "cell_type": "markdown",
   "id": "406492d5-2edc-4745-89e7-8fb05e8786d3",
   "metadata": {},
   "source": [
    "## Sampling"
   ]
  },
  {
   "cell_type": "markdown",
   "id": "bfe422dc-bfee-4742-a3f7-113f40b9b472",
   "metadata": {},
   "source": [
    "Here, we take multiple samples using both strategies."
   ]
  },
  {
   "cell_type": "markdown",
   "id": "23bdc8a5-bb93-4d8d-9481-11c2ab364a83",
   "metadata": {},
   "source": [
    "### Initialising the post process"
   ]
  },
  {
   "cell_type": "code",
   "execution_count": 5,
   "id": "78b05518-0f11-4dad-8a43-768aa7b00a06",
   "metadata": {},
   "outputs": [],
   "source": [
    "post_process = epios.PostProcess(demo_data=demo_data, time_data=time_data)\n",
    "\n",
    "# Initialise the random_predictions, same_predictions and RMSEs\n",
    "random_predictions = []\n",
    "same_predictions = []\n",
    "random_rmses = []\n",
    "same_rmses = []"
   ]
  },
  {
   "cell_type": "markdown",
   "id": "282931fd-63c9-4157-abb3-6034ddf4d4f6",
   "metadata": {},
   "source": [
    "### Running the Random and Same strategies multiple times\n",
    "We run them for `num_iters` iterations so that we can average over the results. We also choose to take `sample_size=100` and \n",
    "`time_sample=[0, ..., 99]`."
   ]
  },
  {
   "cell_type": "code",
   "execution_count": null,
   "id": "3376a257-0db5-464e-9ad0-c19e75598732",
   "metadata": {},
   "outputs": [
    {
     "name": "stdout",
     "output_type": "stream",
     "text": [
      "Iteration 0\n",
      "Root mean squared error for random sampling: 1301.8731923870312\n",
      "Root mean squared error for same sampling: 940.2614922966909\n",
      "Iteration 1\n",
      "Root mean squared error for random sampling: 1259.6596980025993\n",
      "Root mean squared error for same sampling: 1578.1863030555044\n",
      "Iteration 2\n",
      "Root mean squared error for random sampling: 1236.9494273219095\n",
      "Root mean squared error for same sampling: 1768.8313160524947\n",
      "Iteration 3\n",
      "Root mean squared error for random sampling: 1281.5168404340225\n",
      "Root mean squared error for same sampling: 1529.7085560968796\n",
      "Iteration 4\n",
      "Root mean squared error for random sampling: 1396.0462266801915\n",
      "Root mean squared error for same sampling: 1163.9452131848818\n",
      "Iteration 5\n",
      "Root mean squared error for random sampling: 1031.5188949621815\n",
      "Root mean squared error for same sampling: 1403.1556521526754\n",
      "Iteration 6\n",
      "Root mean squared error for random sampling: 1254.1320035690023\n",
      "Root mean squared error for same sampling: 859.7775161121627\n",
      "Iteration 7\n",
      "Root mean squared error for random sampling: 1226.377743692375\n",
      "Root mean squared error for same sampling: 1104.915270185004\n",
      "Iteration 8\n",
      "Root mean squared error for random sampling: 1179.0262261663224\n",
      "Root mean squared error for same sampling: 1198.3474482336082\n",
      "Iteration 9\n",
      "Root mean squared error for random sampling: 1414.2846771721738\n",
      "Root mean squared error for same sampling: 862.7748199385516\n",
      "Iteration 10\n",
      "Root mean squared error for random sampling: 1339.3739231820216\n",
      "Root mean squared error for same sampling: 1157.150179586038\n",
      "Iteration 11\n",
      "Root mean squared error for random sampling: 1272.998032802879\n",
      "Root mean squared error for same sampling: 1432.8675707266182\n",
      "Iteration 12\n",
      "Root mean squared error for random sampling: 1392.9965981365497\n",
      "Root mean squared error for same sampling: 1421.2700839108659\n",
      "Iteration 13\n",
      "Root mean squared error for random sampling: 1322.6269173051032\n",
      "Root mean squared error for same sampling: 1278.9896902633734\n",
      "Iteration 14\n",
      "Root mean squared error for random sampling: 1461.3705746332794\n",
      "Root mean squared error for same sampling: 1492.9613966449367\n",
      "Iteration 15\n",
      "Root mean squared error for random sampling: 1294.3641535673028\n",
      "Root mean squared error for same sampling: 1707.1676052514583\n",
      "Iteration 16\n",
      "Root mean squared error for random sampling: 1104.2707451979338\n",
      "Root mean squared error for same sampling: 1833.9909919288045\n",
      "Iteration 17\n",
      "Root mean squared error for random sampling: 1177.520740444091\n",
      "Root mean squared error for same sampling: 1889.3980925141216\n",
      "Iteration 18\n",
      "Root mean squared error for random sampling: 1219.8556440530167\n",
      "Root mean squared error for same sampling: 674.2658546834475\n",
      "Iteration 19\n",
      "Root mean squared error for random sampling: 1399.8239428213822\n",
      "Root mean squared error for same sampling: 1131.8199624392566\n",
      "Iteration 20\n",
      "Root mean squared error for random sampling: 1289.496278606495\n",
      "Root mean squared error for same sampling: 1375.2346463000413\n",
      "Iteration 21\n",
      "Root mean squared error for random sampling: 1210.196394288134\n",
      "Root mean squared error for same sampling: 1128.6447174873058\n",
      "Iteration 22\n",
      "Root mean squared error for random sampling: 1248.344296714652\n",
      "Root mean squared error for same sampling: 923.8930726572205\n",
      "Iteration 23\n",
      "Root mean squared error for random sampling: 1362.531512730623\n",
      "Root mean squared error for same sampling: 1603.7805216662287\n",
      "Iteration 24\n",
      "Root mean squared error for random sampling: 1108.3645719599665\n",
      "Root mean squared error for same sampling: 1640.1043708008342\n",
      "Iteration 25\n",
      "Root mean squared error for random sampling: 1326.0949896021777\n",
      "Root mean squared error for same sampling: 1133.051176660613\n",
      "Iteration 26\n",
      "Root mean squared error for random sampling: 1215.662272738609\n",
      "Root mean squared error for same sampling: 1088.8909561494208\n",
      "Iteration 27\n",
      "Root mean squared error for random sampling: 1338.5508779288145\n",
      "Root mean squared error for same sampling: 1102.5007765548285\n",
      "Iteration 28\n",
      "Root mean squared error for random sampling: 1321.8396146673772\n",
      "Root mean squared error for same sampling: 1470.3514037576188\n",
      "Iteration 29\n",
      "Root mean squared error for random sampling: 1219.8692292553328\n",
      "Root mean squared error for same sampling: 1204.569877758862\n",
      "Iteration 30\n",
      "Root mean squared error for random sampling: 1337.4300003813282\n",
      "Root mean squared error for same sampling: 1346.8615790971246\n",
      "Iteration 31\n",
      "Root mean squared error for random sampling: 1261.0948272513056\n",
      "Root mean squared error for same sampling: 1050.1148304352241\n",
      "Iteration 32\n",
      "Root mean squared error for random sampling: 1138.732921317374\n",
      "Root mean squared error for same sampling: 1304.7699376794362\n",
      "Iteration 33\n",
      "Root mean squared error for random sampling: 1233.03468109863\n",
      "Root mean squared error for same sampling: 1161.9064202972631\n",
      "Iteration 34\n",
      "Root mean squared error for random sampling: 1282.8688873458582\n",
      "Root mean squared error for same sampling: 1688.8586843759308\n"
     ]
    }
   ],
   "source": [
    "num_iters = 50\n",
    "for j in range(num_iters):\n",
    "    predictions = rand_and_same(post_process=post_process,\n",
    "                                sample_size=100,\n",
    "                                time_sample=list(range(100)),\n",
    "                                comparison=True)\n",
    "    times, true, pred_random, pred_same = predictions\n",
    "    random_predictions.append(pred_random)\n",
    "    same_predictions.append(pred_same)\n",
    "\n",
    "    rmse_random = np.sqrt(((true - pred_random) ** 2).mean())\n",
    "    rmse_same = np.sqrt(((true - pred_same) ** 2).mean())\n",
    "    random_rmses.append(rmse_random)\n",
    "    same_rmses.append(rmse_same)\n",
    "    print(f\"Iteration {j}\")\n",
    "    print(f\"Root mean squared error for random sampling: {rmse_random}\")\n",
    "    print(f\"Root mean squared error for same sampling: {rmse_same}\")"
   ]
  },
  {
   "cell_type": "markdown",
   "id": "0f97f421-9ff8-4cfe-9edd-a9b22b0a4757",
   "metadata": {},
   "source": [
    "### Finding means and standard deviations"
   ]
  },
  {
   "cell_type": "code",
   "execution_count": null,
   "id": "42b7961b-35e2-4383-8a26-de0790e545f8",
   "metadata": {},
   "outputs": [],
   "source": [
    "# Get large arrays with all predictions\n",
    "random_array = np.array(random_predictions)\n",
    "same_array = np.array(same_predictions)\n",
    "\n",
    "# Find their means and standard deviations\n",
    "mean_random_array = np.mean(random_array, axis=0)\n",
    "mean_same_array = np.mean(same_array, axis=0)\n",
    "std_dev_random_array = np.std(random_array, axis=0)\n",
    "std_dev_same_array = np.std(same_array, axis=0)\n",
    "\n",
    "print(f\"Root mean squared error for random sampling: {rmse_random}\")\n",
    "print(f\"Root mean squared error for same sampling: {rmse_same}\")"
   ]
  },
  {
   "cell_type": "markdown",
   "id": "6d139a0e-d406-4c06-9275-34055449eec9",
   "metadata": {},
   "source": [
    "### Saving to .csv files"
   ]
  },
  {
   "cell_type": "code",
   "execution_count": null,
   "id": "d7101c29-a485-4aef-90db-88bac3e270c6",
   "metadata": {},
   "outputs": [],
   "source": [
    "random_df = pd.DataFrame(random_array, columns=list(times))\n",
    "same_df = pd.DataFrame(same_array, columns=list(times))\n",
    "random_df.to_csv('sampling/random_strategy/predictions.csv')\n",
    "same_df.to_csv('sampling/same_strategy/predictions.csv')"
   ]
  },
  {
   "cell_type": "markdown",
   "id": "f9097c9d-9d34-4ff5-aa38-74b4378a6a0a",
   "metadata": {},
   "source": [
    "## Plotting"
   ]
  },
  {
   "cell_type": "markdown",
   "id": "c91ee59a-b654-4089-be18-32c0206b9fe9",
   "metadata": {},
   "source": [
    "These plots mimic the ones produced in EpiOS, but here we are using the arrays averaged over a number\n",
    "of iterations."
   ]
  },
  {
   "cell_type": "markdown",
   "id": "8af09ce6-f236-4716-9441-6166fe6a5c6b",
   "metadata": {},
   "source": [
    "### Random strategy"
   ]
  },
  {
   "cell_type": "code",
   "execution_count": null,
   "id": "daffe73a-e208-4fa1-b76c-c0282e9bc769",
   "metadata": {},
   "outputs": [],
   "source": [
    "legend = {\"Predicted result\": mean_random_array, \"True result\": true, \n",
    "          \"Absolute difference\": np.abs(mean_random_array - true)}\n",
    "\n",
    "for label in legend.keys():\n",
    "    plt.plot(times, legend[label], label=label)\n",
    "plt.xlabel(\"Time\")\n",
    "plt.ylabel(\"Prevalence\")\n",
    "plt.legend()\n",
    "plt.title(\"Prevalence using the Random sampling strategy\")\n",
    "plt.savefig(\"sampling/random_strategy/comparison.png\")\n",
    "plt.show()\n",
    "plt.clf()"
   ]
  },
  {
   "cell_type": "markdown",
   "id": "9e0bb0ce-81d8-4bf8-9f1e-9a02bdbad427",
   "metadata": {},
   "source": [
    "### Same strategy"
   ]
  },
  {
   "cell_type": "code",
   "execution_count": null,
   "id": "fd4123d3-5a47-4bff-8d5c-422ea3fdf3af",
   "metadata": {},
   "outputs": [],
   "source": [
    "legend = {\"Predicted result\": mean_same_array, \"True result\": true, \n",
    "          \"Absolute difference\": np.abs(mean_same_array - true)}\n",
    "\n",
    "for label in legend.keys():\n",
    "    plt.plot(times, legend[label], label=label)\n",
    "plt.xlabel(\"Time\")\n",
    "plt.ylabel(\"Prevalence\")\n",
    "plt.legend()\n",
    "plt.title(\"Prevalence using the Same sampling strategy\")\n",
    "plt.savefig(\"sampling/random_strategy/comparison.png\")\n",
    "plt.show()\n",
    "plt.clf()"
   ]
  },
  {
   "cell_type": "markdown",
   "id": "94089cbc-ff7e-42f3-948f-54318ef6c1d6",
   "metadata": {},
   "source": [
    "## Analysis"
   ]
  },
  {
   "cell_type": "markdown",
   "id": "48b2c726-c1d8-45f0-a5c8-4ce47fa8cb7e",
   "metadata": {},
   "source": [
    "We see that both strategies perform reasonably well when averaging over the `num_iters`. However, the Random sampling\n",
    "strategy appears to be noisier, particularly at later times when the natural immunity of the population begins to wane and\n",
    "the second wave of infections begins. We do not see this effect using the Same sampling strategy to the same extent."
   ]
  },
  {
   "cell_type": "markdown",
   "id": "05c9e450-8b24-461c-a816-c0c9e3fee176",
   "metadata": {},
   "source": [
    "### Plotting RMSEs for the different strategies"
   ]
  },
  {
   "cell_type": "markdown",
   "id": "0c05c70e-981f-424e-8862-19d985a7e7c0",
   "metadata": {},
   "source": [
    "Here we plot the root mean squared errors for Random vs Same sampling as two histograms, to provide a comparison."
   ]
  },
  {
   "cell_type": "code",
   "execution_count": null,
   "id": "8055156d-81b0-4d97-a82c-04e5e38bc6ab",
   "metadata": {},
   "outputs": [],
   "source": [
    "random_rmse_array = np.array(random_rmses)\n",
    "same_rmse_array = np.array(same_rmses)\n",
    "rmse_df = pd.DataFrame(np.array([random_rmse_array, same_rmse_array]), \n",
    "                       columns=['Random strategy', 'Same strategy'])"
   ]
  },
  {
   "cell_type": "code",
   "execution_count": null,
   "id": "49d2a0c7-0012-4cbf-ba1d-feae6886f7f3",
   "metadata": {},
   "outputs": [],
   "source": [
    "rmse_df.plot.hist(bins=10, alpha=0.5)"
   ]
  }
 ],
 "metadata": {
  "kernelspec": {
   "display_name": "Python 3 (ipykernel)",
   "language": "python",
   "name": "python3"
  },
  "language_info": {
   "codemirror_mode": {
    "name": "ipython",
    "version": 3
   },
   "file_extension": ".py",
   "mimetype": "text/x-python",
   "name": "python",
   "nbconvert_exporter": "python",
   "pygments_lexer": "ipython3",
   "version": "3.12.0"
  }
 },
 "nbformat": 4,
 "nbformat_minor": 5
}
