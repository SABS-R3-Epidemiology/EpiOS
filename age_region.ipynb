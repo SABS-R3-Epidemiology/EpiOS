{
 "cells": [
  {
   "cell_type": "code",
   "execution_count": 2,
   "metadata": {},
   "outputs": [],
   "source": [
    "import sys\n",
    "import os\n",
    "from pathlib import Path\n",
    "sys.path.append(str(Path.cwd().parent))\n",
    "import pandas as pd\n",
    "import numpy as np\n",
    "import json"
   ]
  },
  {
   "cell_type": "code",
   "execution_count": 2,
   "metadata": {},
   "outputs": [],
   "source": [
    "from epios import DataProcess\n",
    "import pandas as pd\n",
    "\n",
    "a = DataProcess(pd.DataFrame({'ID': ['0.0.0.0', '0.0.0.1', '0.0.1.0',\n",
    "                                         '0.1.0.0', '0.2.0.0', '1.0.0.0'],\n",
    "                                  'age': [1, 81, 45, 33, 20, 60]}))"
   ]
  },
  {
   "cell_type": "code",
   "execution_count": 4,
   "metadata": {},
   "outputs": [
    {
     "ename": "KeyboardInterrupt",
     "evalue": "",
     "output_type": "error",
     "traceback": [
      "\u001b[0;31m---------------------------------------------------------------------------\u001b[0m",
      "\u001b[0;31mKeyboardInterrupt\u001b[0m                         Traceback (most recent call last)",
      "\u001b[1;32m/Users/yunliqi/EpiOS/age_region.ipynb Cell 3\u001b[0m line \u001b[0;36m4\n\u001b[1;32m      <a href='vscode-notebook-cell:/Users/yunliqi/EpiOS/age_region.ipynb#X14sZmlsZQ%3D%3D?line=1'>2</a>\u001b[0m a \u001b[39m=\u001b[39m ar\u001b[39m.\u001b[39mSampler(\u001b[39m'\u001b[39m\u001b[39m./input/Luxembourg_microcells.csv\u001b[39m\u001b[39m'\u001b[39m, \u001b[39m'\u001b[39m\u001b[39m./input/Luxembourg_pop_dist.json\u001b[39m\u001b[39m'\u001b[39m, \u001b[39m'\u001b[39m\u001b[39m./input/Luxembourg_data.csv\u001b[39m\u001b[39m'\u001b[39m)\n\u001b[1;32m      <a href='vscode-notebook-cell:/Users/yunliqi/EpiOS/age_region.ipynb#X14sZmlsZQ%3D%3D?line=2'>3</a>\u001b[0m \u001b[39m# a = ar.Sampler('./input/microcells.csv', './input/pop_dist.json', './input/data.csv')\u001b[39;00m\n\u001b[0;32m----> <a href='vscode-notebook-cell:/Users/yunliqi/EpiOS/age_region.ipynb#X14sZmlsZQ%3D%3D?line=3'>4</a>\u001b[0m a\u001b[39m.\u001b[39;49moptimise_draw(\u001b[39m100\u001b[39;49m)\n",
      "File \u001b[0;32m~/EpiOS/epios/age_region.py:415\u001b[0m, in \u001b[0;36mSampler.optimise_draw\u001b[0;34m(self, sample_size)\u001b[0m\n\u001b[1;32m    411\u001b[0m m \u001b[39m=\u001b[39m Model(\u001b[39m'\u001b[39m\u001b[39mmiqp\u001b[39m\u001b[39m'\u001b[39m)\n\u001b[1;32m    413\u001b[0m x \u001b[39m=\u001b[39m m\u001b[39m.\u001b[39maddVars(\u001b[39mlen\u001b[39m(Q), vtype\u001b[39m=\u001b[39mGRB\u001b[39m.\u001b[39mINTEGER)\n\u001b[0;32m--> 415\u001b[0m obj \u001b[39m=\u001b[39m quicksum(quicksum(Q[i][j] \u001b[39m*\u001b[39;49m x[i] \u001b[39m*\u001b[39;49m x[j] \u001b[39mfor\u001b[39;49;00m j \u001b[39min\u001b[39;49;00m \u001b[39mrange\u001b[39;49m(len_c)) \u001b[39mfor\u001b[39;49;00m i \u001b[39min\u001b[39;49;00m \u001b[39mrange\u001b[39;49m(len_c))\n\u001b[1;32m    416\u001b[0m obj \u001b[39m+\u001b[39m\u001b[39m=\u001b[39m quicksum(c[i] \u001b[39m*\u001b[39m x[i] \u001b[39mfor\u001b[39;00m i \u001b[39min\u001b[39;00m \u001b[39mrange\u001b[39m(len_c))\n\u001b[1;32m    417\u001b[0m m\u001b[39m.\u001b[39msetObjective(obj, GRB\u001b[39m.\u001b[39mMINIMIZE)\n",
      "File \u001b[0;32msrc/gurobipy/gurobi.pxi:3842\u001b[0m, in \u001b[0;36mgurobipy.quicksum\u001b[0;34m()\u001b[0m\n",
      "File \u001b[0;32m~/EpiOS/epios/age_region.py:415\u001b[0m, in \u001b[0;36m<genexpr>\u001b[0;34m(.0)\u001b[0m\n\u001b[1;32m    411\u001b[0m m \u001b[39m=\u001b[39m Model(\u001b[39m'\u001b[39m\u001b[39mmiqp\u001b[39m\u001b[39m'\u001b[39m)\n\u001b[1;32m    413\u001b[0m x \u001b[39m=\u001b[39m m\u001b[39m.\u001b[39maddVars(\u001b[39mlen\u001b[39m(Q), vtype\u001b[39m=\u001b[39mGRB\u001b[39m.\u001b[39mINTEGER)\n\u001b[0;32m--> 415\u001b[0m obj \u001b[39m=\u001b[39m quicksum(quicksum(Q[i][j] \u001b[39m*\u001b[39;49m x[i] \u001b[39m*\u001b[39;49m x[j] \u001b[39mfor\u001b[39;49;00m j \u001b[39min\u001b[39;49;00m \u001b[39mrange\u001b[39;49m(len_c)) \u001b[39mfor\u001b[39;00m i \u001b[39min\u001b[39;00m \u001b[39mrange\u001b[39m(len_c))\n\u001b[1;32m    416\u001b[0m obj \u001b[39m+\u001b[39m\u001b[39m=\u001b[39m quicksum(c[i] \u001b[39m*\u001b[39m x[i] \u001b[39mfor\u001b[39;00m i \u001b[39min\u001b[39;00m \u001b[39mrange\u001b[39m(len_c))\n\u001b[1;32m    417\u001b[0m m\u001b[39m.\u001b[39msetObjective(obj, GRB\u001b[39m.\u001b[39mMINIMIZE)\n",
      "File \u001b[0;32msrc/gurobipy/gurobi.pxi:3842\u001b[0m, in \u001b[0;36mgurobipy.quicksum\u001b[0;34m()\u001b[0m\n",
      "File \u001b[0;32m~/EpiOS/epios/age_region.py:415\u001b[0m, in \u001b[0;36m<genexpr>\u001b[0;34m(.0)\u001b[0m\n\u001b[1;32m    411\u001b[0m m \u001b[39m=\u001b[39m Model(\u001b[39m'\u001b[39m\u001b[39mmiqp\u001b[39m\u001b[39m'\u001b[39m)\n\u001b[1;32m    413\u001b[0m x \u001b[39m=\u001b[39m m\u001b[39m.\u001b[39maddVars(\u001b[39mlen\u001b[39m(Q), vtype\u001b[39m=\u001b[39mGRB\u001b[39m.\u001b[39mINTEGER)\n\u001b[0;32m--> 415\u001b[0m obj \u001b[39m=\u001b[39m quicksum(quicksum(Q[i][j] \u001b[39m*\u001b[39;49m x[i] \u001b[39m*\u001b[39;49m x[j] \u001b[39mfor\u001b[39;00m j \u001b[39min\u001b[39;00m \u001b[39mrange\u001b[39m(len_c)) \u001b[39mfor\u001b[39;00m i \u001b[39min\u001b[39;00m \u001b[39mrange\u001b[39m(len_c))\n\u001b[1;32m    416\u001b[0m obj \u001b[39m+\u001b[39m\u001b[39m=\u001b[39m quicksum(c[i] \u001b[39m*\u001b[39m x[i] \u001b[39mfor\u001b[39;00m i \u001b[39min\u001b[39;00m \u001b[39mrange\u001b[39m(len_c))\n\u001b[1;32m    417\u001b[0m m\u001b[39m.\u001b[39msetObjective(obj, GRB\u001b[39m.\u001b[39mMINIMIZE)\n",
      "File \u001b[0;32msrc/gurobipy/linexpr.pxi:536\u001b[0m, in \u001b[0;36mgurobipy.LinExpr.__mul__\u001b[0;34m()\u001b[0m\n",
      "File \u001b[0;32msrc/gurobipy/quadexpr.pxi:45\u001b[0m, in \u001b[0;36mgurobipy.QuadExpr.__init__\u001b[0;34m()\u001b[0m\n",
      "File \u001b[0;32msrc/gurobipy/linexpr.pxi:48\u001b[0m, in \u001b[0;36mgurobipy.LinExpr.__init__\u001b[0;34m()\u001b[0m\n",
      "File \u001b[0;32m<frozen abc>:117\u001b[0m, in \u001b[0;36m__instancecheck__\u001b[0;34m(cls, instance)\u001b[0m\n",
      "\u001b[0;31mKeyboardInterrupt\u001b[0m: "
     ]
    }
   ],
   "source": [
    "import epios.age_region as ar\n",
    "a = ar.Sampler('./input/Luxembourg_microcells.csv', './input/Luxembourg_pop_dist.json', './input/Luxembourg_data.csv')\n",
    "# a = ar.Sampler('./input/microcells.csv', './input/pop_dist.json', './input/data.csv')\n",
    "a.optimise_draw(100)\n"
   ]
  },
  {
   "cell_type": "code",
   "execution_count": 8,
   "metadata": {},
   "outputs": [
    {
     "data": {
      "text/plain": [
       "array([0., 0.])"
      ]
     },
     "execution_count": 8,
     "metadata": {},
     "output_type": "execute_result"
    }
   ],
   "source": [
    "import numpy as np\n",
    "np.zeros(2)"
   ]
  },
  {
   "cell_type": "code",
   "execution_count": 3,
   "metadata": {},
   "outputs": [
    {
     "ename": "ModuleNotFoundError",
     "evalue": "No module named 'sampler'",
     "output_type": "error",
     "traceback": [
      "\u001b[0;31m---------------------------------------------------------------------------\u001b[0m",
      "\u001b[0;31mModuleNotFoundError\u001b[0m                       Traceback (most recent call last)",
      "\u001b[1;32m/Users/yunliqi/EpiOS/age_region.ipynb Cell 2\u001b[0m line \u001b[0;36m1\n\u001b[0;32m----> <a href='vscode-notebook-cell:/Users/yunliqi/EpiOS/age_region.ipynb#X13sZmlsZQ%3D%3D?line=0'>1</a>\u001b[0m \u001b[39mfrom\u001b[39;00m \u001b[39mepios\u001b[39;00m\u001b[39m.\u001b[39;00m\u001b[39msampler\u001b[39;00m \u001b[39mimport\u001b[39;00m Sampler\n",
      "File \u001b[0;32m~/EpiOS/epios/__init__.py:1\u001b[0m\n\u001b[0;32m----> 1\u001b[0m \u001b[39mfrom\u001b[39;00m \u001b[39m.\u001b[39;00m\u001b[39msampler_age_region\u001b[39;00m \u001b[39mimport\u001b[39;00m SamplerAgeRegion \u001b[39m# noqa\u001b[39;00m\n\u001b[1;32m      2\u001b[0m \u001b[39mfrom\u001b[39;00m \u001b[39m.\u001b[39;00m\u001b[39mnon_responder_function\u001b[39;00m \u001b[39mimport\u001b[39;00m additional_nonresponder \u001b[39m# noqa\u001b[39;00m\n\u001b[1;32m      3\u001b[0m \u001b[39mfrom\u001b[39;00m \u001b[39m.\u001b[39;00m\u001b[39mdata_process\u001b[39;00m \u001b[39mimport\u001b[39;00m DataProcess \u001b[39m# noqa\u001b[39;00m\n",
      "File \u001b[0;32m~/EpiOS/epios/sampler_age_region.py:1\u001b[0m\n\u001b[0;32m----> 1\u001b[0m \u001b[39mfrom\u001b[39;00m \u001b[39msampler\u001b[39;00m \u001b[39mimport\u001b[39;00m Sampler\n\u001b[1;32m      2\u001b[0m \u001b[39mimport\u001b[39;00m \u001b[39mpandas\u001b[39;00m \u001b[39mas\u001b[39;00m \u001b[39mpd\u001b[39;00m\n\u001b[1;32m      3\u001b[0m \u001b[39mimport\u001b[39;00m \u001b[39mnumpy\u001b[39;00m \u001b[39mas\u001b[39;00m \u001b[39mnp\u001b[39;00m\n",
      "\u001b[0;31mModuleNotFoundError\u001b[0m: No module named 'sampler'"
     ]
    }
   ],
   "source": [
    "from epios.sampler import Sampler"
   ]
  },
  {
   "cell_type": "code",
   "execution_count": 6,
   "metadata": {},
   "outputs": [
    {
     "ename": "TypeError",
     "evalue": "Sampler.__init__() got an unexpected keyword argument 'data'",
     "output_type": "error",
     "traceback": [
      "\u001b[0;31m---------------------------------------------------------------------------\u001b[0m",
      "\u001b[0;31mTypeError\u001b[0m                                 Traceback (most recent call last)",
      "\u001b[1;32m/Users/yunliqi/EpiOS/age_region.ipynb Cell 2\u001b[0m line \u001b[0;36m4\n\u001b[1;32m      <a href='vscode-notebook-cell:/Users/yunliqi/EpiOS/age_region.ipynb#W1sZmlsZQ%3D%3D?line=0'>1</a>\u001b[0m data \u001b[39m=\u001b[39m pd\u001b[39m.\u001b[39mDataFrame({\u001b[39m'\u001b[39m\u001b[39mID\u001b[39m\u001b[39m'\u001b[39m: [\u001b[39m'\u001b[39m\u001b[39m0.0.0.0\u001b[39m\u001b[39m'\u001b[39m, \u001b[39m'\u001b[39m\u001b[39m0.0.0.1\u001b[39m\u001b[39m'\u001b[39m, \u001b[39m'\u001b[39m\u001b[39m0.0.1.0\u001b[39m\u001b[39m'\u001b[39m,\n\u001b[1;32m      <a href='vscode-notebook-cell:/Users/yunliqi/EpiOS/age_region.ipynb#W1sZmlsZQ%3D%3D?line=1'>2</a>\u001b[0m                                          \u001b[39m'\u001b[39m\u001b[39m0.1.0.0\u001b[39m\u001b[39m'\u001b[39m, \u001b[39m'\u001b[39m\u001b[39m0.2.0.0\u001b[39m\u001b[39m'\u001b[39m, \u001b[39m'\u001b[39m\u001b[39m1.0.0.0\u001b[39m\u001b[39m'\u001b[39m],\n\u001b[1;32m      <a href='vscode-notebook-cell:/Users/yunliqi/EpiOS/age_region.ipynb#W1sZmlsZQ%3D%3D?line=2'>3</a>\u001b[0m                                   \u001b[39m'\u001b[39m\u001b[39mage\u001b[39m\u001b[39m'\u001b[39m: [\u001b[39m1\u001b[39m, \u001b[39m81\u001b[39m, \u001b[39m45\u001b[39m, \u001b[39m33\u001b[39m, \u001b[39m20\u001b[39m, \u001b[39m60\u001b[39m]})\n\u001b[0;32m----> <a href='vscode-notebook-cell:/Users/yunliqi/EpiOS/age_region.ipynb#W1sZmlsZQ%3D%3D?line=3'>4</a>\u001b[0m a \u001b[39m=\u001b[39m epios\u001b[39m.\u001b[39;49mSampler(data\u001b[39m=\u001b[39;49mdata)\n",
      "\u001b[0;31mTypeError\u001b[0m: Sampler.__init__() got an unexpected keyword argument 'data'"
     ]
    }
   ],
   "source": [
    "data = pd.DataFrame({'ID': ['0.0.0.0', '0.0.0.1', '0.0.1.0',\n",
    "                                         '0.1.0.0', '0.2.0.0', '1.0.0.0'],\n",
    "                                  'age': [1, 81, 45, 33, 20, 60]})\n",
    "a = epios.Sampler()"
   ]
  },
  {
   "cell_type": "code",
   "execution_count": 3,
   "metadata": {},
   "outputs": [],
   "source": [
    "res = a.sample(10000)"
   ]
  },
  {
   "cell_type": "code",
   "execution_count": 5,
   "metadata": {},
   "outputs": [],
   "source": [
    "age_dist = a.get_age_dist()\n",
    "region_dist = a.get_region_dist()\n",
    "ar_dist = np.array(age_dist) * np.array(region_dist).reshape((-1, 1))\n",
    "ar_dist = ar_dist.reshape((1, -1))[0]\n",
    "size = 1000\n",
    "num_sample, cap = a.multinomial_draw(size, ar_dist)"
   ]
  },
  {
   "cell_type": "code",
   "execution_count": 6,
   "metadata": {},
   "outputs": [
    {
     "data": {
      "text/plain": [
       "array([0, 0, 0, 0, 0, 0, 0, 0, 0, 0, 0, 0, 0, 0, 0, 0, 0])"
      ]
     },
     "execution_count": 6,
     "metadata": {},
     "output_type": "execute_result"
    }
   ],
   "source": [
    "b = np.array(num_sample).reshape((-1, len(age_dist))) > cap\n",
    "sum(b)"
   ]
  },
  {
   "cell_type": "code",
   "execution_count": 4,
   "metadata": {},
   "outputs": [
    {
     "data": {
      "text/plain": [
       "10000"
      ]
     },
     "execution_count": 4,
     "metadata": {},
     "output_type": "execute_result"
    }
   ],
   "source": [
    "len(res)"
   ]
  },
  {
   "cell_type": "code",
   "execution_count": 4,
   "metadata": {},
   "outputs": [
    {
     "data": {
      "text/plain": [
       "0"
      ]
     },
     "execution_count": 4,
     "metadata": {},
     "output_type": "execute_result"
    }
   ],
   "source": [
    "b = np.sum(np.array(num_sample).reshape((-1, len(age_dist))), axis=1) > np.array(cap).reshape((1, -1))[0]\n",
    "sum(b)"
   ]
  },
  {
   "cell_type": "code",
   "execution_count": 5,
   "metadata": {},
   "outputs": [],
   "source": [
    "# df = pd.read_csv('./input/Luxembourg_microcells.csv')\n",
    "# with open('./input/Luxembourg_pop_dist.json', 'r') as f:\n",
    "#     config = json.loads(f.read())\n",
    "# id_counter = 0\n",
    "# for ind, row in df.iterrows():\n",
    "#     household = 1\n",
    "#     for i in range(int(row['Susceptible'])):\n",
    "#         draw = list(np.random.multinomial(1, config))\n",
    "#         index = draw.index(max(draw))\n",
    "#         age = index * 5 + np.random.randint(0, 4)\n",
    "#         text = '\\n' + str(id_counter) + ',' + str(age) + ',' + str(int(row['cell'])) + ',' + str(int(row['microcell'])) + ',' + str(household)\n",
    "#         household = min(household + 1, int(row['household_number']))\n",
    "#         id_counter += 1\n",
    "#         with open('./input/data.csv', 'a') as f:\n",
    "#             f.write(text)"
   ]
  },
  {
   "cell_type": "code",
   "execution_count": 1,
   "metadata": {},
   "outputs": [],
   "source": [
    "# import epios\n",
    "# import pandas as pd\n",
    "# a = pd.DataFrame({'ID': ['0.0.0.0','0.1.0.0','1.0.0.0','0.2.0.0','0.0.0.1','0.0.1.0'], 'age': [1, 81, 45, 33, 20, 60]})\n",
    "# pro = epios.DataProcess(a)\n",
    "# pro.pre_process()"
   ]
  }
 ],
 "metadata": {
  "kernelspec": {
   "display_name": "venv",
   "language": "python",
   "name": "python3"
  },
  "language_info": {
   "codemirror_mode": {
    "name": "ipython",
    "version": 3
   },
   "file_extension": ".py",
   "mimetype": "text/x-python",
   "name": "python",
   "nbconvert_exporter": "python",
   "pygments_lexer": "ipython3",
   "version": "3.11.5"
  }
 },
 "nbformat": 4,
 "nbformat_minor": 2
}
